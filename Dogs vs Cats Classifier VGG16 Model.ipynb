{
 "cells": [
  {
   "cell_type": "code",
   "execution_count": 3,
   "metadata": {},
   "outputs": [
    {
     "name": "stdout",
     "output_type": "stream",
     "text": [
      "Found 8000 images belonging to 2 classes.\n",
      "Found 2000 images belonging to 2 classes.\n"
     ]
    }
   ],
   "source": [
    "import pandas as pd\n",
    "import os\n",
    "from tensorflow.keras.preprocessing.image import ImageDataGenerator\n",
    "\n",
    "train_dir = \"/home/rahul/Downloads/dog vs cat/dataset/training_set\"\n",
    "test_dir=\"/home/rahul/Downloads/dog vs cat/dataset/test_set\"\n",
    "\n",
    "\n",
    "train_dogs= train_dir +\"/dogs\"\n",
    "test_dogs=test_dir + \"/dogs\"\n",
    "train_cats= train_dir + \"/cats\"\n",
    "test_cats= test_dir +\"/cats\"\n",
    "\n",
    "\n",
    "# To convert RGB images into array of numbers\n",
    "data_generator = ImageDataGenerator(rescale = 1.0/255.0, zoom_range = 0.2)  \n",
    "\n",
    "\n",
    "batch_size = 32\n",
    "training_data = data_generator.flow_from_directory(directory = train_dir,\n",
    "                                                   target_size = (64, 64),\n",
    "                                                   batch_size = batch_size,\n",
    "                                                   class_mode = 'binary')\n",
    "testing_data = data_generator.flow_from_directory(directory = test_dir,\n",
    "                                                  target_size = (64, 64),\n",
    "                                                  batch_size = batch_size,\n",
    "                                                  class_mode = 'binary')\n",
    "\n",
    "\n",
    "from tensorflow.keras.applications import vgg16\n",
    "\n",
    "vgg_conv = vgg16.VGG16(weights='imagenet', include_top=False, input_shape= training_data.image_shape)\n",
    "\n",
    "from keras import layers, models, optimizers\n",
    "model = models.Sequential()\n",
    "model.add(vgg_conv)\n",
    "model.add(layers.Flatten())\n",
    "model.add(layers.Dropout(0.5))\n",
    "model.add(layers.Dense(256, activation='relu'))\n",
    "model.add(layers.Dense(256, activation='relu'))\n",
    "model.add(layers.Dense(256, activation='relu'))\n",
    "model.add(layers.Dense(1, activation='sigmoid'))\n",
    "\n",
    "vgg_conv.trainable = False\n",
    "\n",
    "model.compile(optimizer = 'adam', loss = 'binary_crossentropy', metrics = ['accuracy'])\n",
    "\n",
    "history = model.fit(training_data,\n",
    "                        steps_per_epoch = int(1000/batch_size),\n",
    "                        epochs = 20,\n",
    "                        validation_data = testing_data,\n",
    "                        validation_steps = int(1000/batch_size)\n",
    "                             )\n",
    "\n",
    "from tensorflow.keras.preprocessing import image\n",
    "import numpy as np\n",
    "def testing_image(image_directory):\n",
    "    test_image = image.load_img(image_directory, target_size = (64, 64))\n",
    "    test_image = image.img_to_array(test_image)\n",
    "    test_image = np.expand_dims(test_image, axis = 0)\n",
    "    result = model.predict(x = test_image)\n",
    "    print(result)\n",
    "    if result[0][0]  == 1:\n",
    "        prediction = 'Dog'\n",
    "    else:\n",
    "        prediction = 'Cat'\n",
    "    return prediction\n",
    "\n"
   ]
  }
 ],
 "metadata": {
  "kernelspec": {
   "display_name": "Python 3",
   "language": "python",
   "name": "python3"
  },
  "language_info": {
   "codemirror_mode": {
    "name": "ipython",
    "version": 3
   },
   "file_extension": ".py",
   "mimetype": "text/x-python",
   "name": "python",
   "nbconvert_exporter": "python",
   "pygments_lexer": "ipython3",
   "version": "3.6.9"
  }
 },
 "nbformat": 4,
 "nbformat_minor": 2
}
